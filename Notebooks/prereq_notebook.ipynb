{
 "cells": [
  {
   "cell_type": "markdown",
   "id": "b3b54160",
   "metadata": {},
   "source": [
    "Hello, im alex i am stoked to be back learning again."
   ]
  },
  {
   "cell_type": "code",
   "execution_count": null,
   "id": "4012f7f0",
   "metadata": {},
   "outputs": [],
   "source": [
    "print(\"hello DA Course\")"
   ]
  }
 ],
 "metadata": {
  "kernelspec": {
   "display_name": "Python 3",
   "language": "python",
   "name": "python3"
  },
  "language_info": {
   "name": "python",
   "version": "3.13.2"
  }
 },
 "nbformat": 4,
 "nbformat_minor": 5
}
